{
 "cells": [
  {
   "cell_type": "code",
   "execution_count": 1,
   "id": "c00956fe",
   "metadata": {
    "_cell_guid": "b1076dfc-b9ad-4769-8c92-a6c4dae69d19",
    "_uuid": "8f2839f25d086af736a60e9eeb907d3b93b6e0e5",
    "execution": {
     "iopub.execute_input": "2021-08-13T10:54:25.286635Z",
     "iopub.status.busy": "2021-08-13T10:54:25.285576Z",
     "iopub.status.idle": "2021-08-13T10:54:25.296800Z",
     "shell.execute_reply": "2021-08-13T10:54:25.297464Z",
     "shell.execute_reply.started": "2021-08-13T10:42:21.476093Z"
    },
    "papermill": {
     "duration": 0.029341,
     "end_time": "2021-08-13T10:54:25.297822",
     "exception": false,
     "start_time": "2021-08-13T10:54:25.268481",
     "status": "completed"
    },
    "tags": []
   },
   "outputs": [
    {
     "name": "stdout",
     "output_type": "stream",
     "text": [
      "/kaggle/input/digit-recognizer/sample_submission.csv\n",
      "/kaggle/input/digit-recognizer/train.csv\n",
      "/kaggle/input/digit-recognizer/test.csv\n"
     ]
    }
   ],
   "source": [
    "# This Python 3 environment comes with many helpful analytics libraries installed\n",
    "# It is defined by the kaggle/python Docker image: https://github.com/kaggle/docker-python\n",
    "# For example, here's several helpful packages to load\n",
    "\n",
    "import numpy as np # linear algebra\n",
    "import pandas as pd # data processing, CSV file I/O (e.g. pd.read_csv)\n",
    "\n",
    "# Input data files are available in the read-only \"../input/\" directory\n",
    "# For example, running this (by clicking run or pressing Shift+Enter) will list all files under the input directory\n",
    "\n",
    "import os\n",
    "for dirname, _, filenames in os.walk('/kaggle/input'):\n",
    "    for filename in filenames:\n",
    "        print(os.path.join(dirname, filename))\n",
    "\n",
    "# You can write up to 20GB to the current directory (/kaggle/working/) that gets preserved as output when you create a version using \"Save & Run All\" \n",
    "# You can also write temporary files to /kaggle/temp/, but they won't be saved outside of the current session"
   ]
  },
  {
   "cell_type": "code",
   "execution_count": 2,
   "id": "5bd2e5ca",
   "metadata": {
    "execution": {
     "iopub.execute_input": "2021-08-13T10:54:25.332590Z",
     "iopub.status.busy": "2021-08-13T10:54:25.331904Z",
     "iopub.status.idle": "2021-08-13T10:54:31.849106Z",
     "shell.execute_reply": "2021-08-13T10:54:31.848596Z",
     "shell.execute_reply.started": "2021-08-13T10:42:21.494783Z"
    },
    "papermill": {
     "duration": 6.537195,
     "end_time": "2021-08-13T10:54:31.849254",
     "exception": false,
     "start_time": "2021-08-13T10:54:25.312059",
     "status": "completed"
    },
    "tags": []
   },
   "outputs": [],
   "source": [
    "# Import Essential Libraries\n",
    "np.random.seed(10)\n",
    "import matplotlib.pyplot as plt\n",
    "import matplotlib.image as mpimg\n",
    "import seaborn as sns\n",
    "%matplotlib inline\n",
    "\n",
    "from sklearn.model_selection import train_test_split\n",
    "from sklearn.metrics import confusion_matrix\n",
    "import itertools\n",
    "\n",
    "from keras.utils.np_utils import to_categorical # convert to one-hot-encoding\n",
    "from keras.models import Sequential\n",
    "from keras.layers import Dense, Dropout, Flatten, Conv2D, MaxPool2D\n",
    "from keras.optimizers import RMSprop\n",
    "from keras.preprocessing.image import ImageDataGenerator\n",
    "from keras.callbacks import ReduceLROnPlateau\n"
   ]
  },
  {
   "cell_type": "code",
   "execution_count": 3,
   "id": "5b1f2d2e",
   "metadata": {
    "execution": {
     "iopub.execute_input": "2021-08-13T10:54:31.881536Z",
     "iopub.status.busy": "2021-08-13T10:54:31.880935Z",
     "iopub.status.idle": "2021-08-13T10:54:36.846834Z",
     "shell.execute_reply": "2021-08-13T10:54:36.845822Z",
     "shell.execute_reply.started": "2021-08-13T10:42:36.921874Z"
    },
    "papermill": {
     "duration": 4.983992,
     "end_time": "2021-08-13T10:54:36.846983",
     "exception": false,
     "start_time": "2021-08-13T10:54:31.862991",
     "status": "completed"
    },
    "tags": []
   },
   "outputs": [],
   "source": [
    "# LOADING DATA NOW\n",
    "train = pd.read_csv(\"/kaggle/input/digit-recognizer/train.csv\")\n",
    "test = pd.read_csv(\"/kaggle/input/digit-recognizer/test.csv\")"
   ]
  },
  {
   "cell_type": "code",
   "execution_count": 4,
   "id": "21a93976",
   "metadata": {
    "execution": {
     "iopub.execute_input": "2021-08-13T10:54:36.885542Z",
     "iopub.status.busy": "2021-08-13T10:54:36.884922Z",
     "iopub.status.idle": "2021-08-13T10:54:36.996527Z",
     "shell.execute_reply": "2021-08-13T10:54:36.996008Z",
     "shell.execute_reply.started": "2021-08-13T10:42:49.696825Z"
    },
    "papermill": {
     "duration": 0.135898,
     "end_time": "2021-08-13T10:54:36.996673",
     "exception": false,
     "start_time": "2021-08-13T10:54:36.860775",
     "status": "completed"
    },
    "tags": []
   },
   "outputs": [],
   "source": [
    "Y_train = train[\"label\"]\n",
    "# Drop 'label' column\n",
    "X_train = train.drop(labels = [\"label\"],axis = 1)"
   ]
  },
  {
   "cell_type": "code",
   "execution_count": 5,
   "id": "5ecbf959",
   "metadata": {
    "execution": {
     "iopub.execute_input": "2021-08-13T10:54:37.033947Z",
     "iopub.status.busy": "2021-08-13T10:54:37.033036Z",
     "iopub.status.idle": "2021-08-13T10:54:37.224623Z",
     "shell.execute_reply": "2021-08-13T10:54:37.224096Z",
     "shell.execute_reply.started": "2021-08-13T10:43:01.428315Z"
    },
    "papermill": {
     "duration": 0.214481,
     "end_time": "2021-08-13T10:54:37.224755",
     "exception": false,
     "start_time": "2021-08-13T10:54:37.010274",
     "status": "completed"
    },
    "tags": []
   },
   "outputs": [
    {
     "name": "stderr",
     "output_type": "stream",
     "text": [
      "/opt/conda/lib/python3.7/site-packages/seaborn/_decorators.py:43: FutureWarning: Pass the following variable as a keyword arg: x. From version 0.12, the only valid positional argument will be `data`, and passing other arguments without an explicit keyword will result in an error or misinterpretation.\n",
      "  FutureWarning\n"
     ]
    },
    {
     "data": {
      "image/png": "[encoded data removed]",
      "text/plain": [
       "<Figure size 432x288 with 1 Axes>"
      ]
     },
     "metadata": {
      "needs_background": "light"
     },
     "output_type": "display_data"
    }
   ],
   "source": [
    "g = sns.countplot(Y_train)"
   ]
  },
  {
   "cell_type": "code",
   "execution_count": 6,
   "id": "93508274",
   "metadata": {
    "execution": {
     "iopub.execute_input": "2021-08-13T10:54:37.258918Z",
     "iopub.status.busy": "2021-08-13T10:54:37.258202Z",
     "iopub.status.idle": "2021-08-13T10:54:37.262671Z",
     "shell.execute_reply": "2021-08-13T10:54:37.262173Z",
     "shell.execute_reply.started": "2021-08-13T10:43:06.325059Z"
    },
    "papermill": {
     "duration": 0.023542,
     "end_time": "2021-08-13T10:54:37.263002",
     "exception": false,
     "start_time": "2021-08-13T10:54:37.239460",
     "status": "completed"
    },
    "tags": []
   },
   "outputs": [
    {
     "data": {
      "text/plain": [
       "(42000, 784)"
      ]
     },
     "execution_count": 6,
     "metadata": {},
     "output_type": "execute_result"
    }
   ],
   "source": [
    "X_train.shape"
   ]
  },
  {
   "cell_type": "code",
   "execution_count": 7,
   "id": "30a47cba",
   "metadata": {
    "execution": {
     "iopub.execute_input": "2021-08-13T10:54:37.297126Z",
     "iopub.status.busy": "2021-08-13T10:54:37.296526Z",
     "iopub.status.idle": "2021-08-13T10:54:37.330429Z",
     "shell.execute_reply": "2021-08-13T10:54:37.329908Z",
     "shell.execute_reply.started": "2021-08-13T10:43:09.336431Z"
    },
    "papermill": {
     "duration": 0.052642,
     "end_time": "2021-08-13T10:54:37.330579",
     "exception": false,
     "start_time": "2021-08-13T10:54:37.277937",
     "status": "completed"
    },
    "tags": []
   },
   "outputs": [
    {
     "data": {
      "text/plain": [
       "count       784\n",
       "unique        1\n",
       "top       False\n",
       "freq        784\n",
       "dtype: object"
      ]
     },
     "execution_count": 7,
     "metadata": {},
     "output_type": "execute_result"
    }
   ],
   "source": [
    "# Check for null and missing values\n",
    "X_train.isnull().any().describe()"
   ]
  },
  {
   "cell_type": "code",
   "execution_count": 8,
   "id": "16a47e5f",
   "metadata": {
    "execution": {
     "iopub.execute_input": "2021-08-13T10:54:37.366853Z",
     "iopub.status.busy": "2021-08-13T10:54:37.365456Z",
     "iopub.status.idle": "2021-08-13T10:54:37.380171Z",
     "shell.execute_reply": "2021-08-13T10:54:37.379628Z",
     "shell.execute_reply.started": "2021-08-13T10:43:11.968334Z"
    },
    "papermill": {
     "duration": 0.034518,
     "end_time": "2021-08-13T10:54:37.380305",
     "exception": false,
     "start_time": "2021-08-13T10:54:37.345787",
     "status": "completed"
    },
    "tags": []
   },
   "outputs": [
    {
     "data": {
      "text/plain": [
       "count       784\n",
       "unique        1\n",
       "top       False\n",
       "freq        784\n",
       "dtype: object"
      ]
     },
     "execution_count": 8,
     "metadata": {},
     "output_type": "execute_result"
    }
   ],
   "source": [
    "test.isnull().any().describe()"
   ]
  },
  {
   "cell_type": "code",
   "execution_count": 9,
   "id": "614fdf91",
   "metadata": {
    "execution": {
     "iopub.execute_input": "2021-08-13T10:54:37.414069Z",
     "iopub.status.busy": "2021-08-13T10:54:37.413535Z",
     "iopub.status.idle": "2021-08-13T10:54:37.520913Z",
     "shell.execute_reply": "2021-08-13T10:54:37.520405Z",
     "shell.execute_reply.started": "2021-08-13T10:43:14.221767Z"
    },
    "papermill": {
     "duration": 0.125541,
     "end_time": "2021-08-13T10:54:37.521049",
     "exception": false,
     "start_time": "2021-08-13T10:54:37.395508",
     "status": "completed"
    },
    "tags": []
   },
   "outputs": [],
   "source": [
    "# Normalize the data\n",
    "X_train = X_train / 255.0\n",
    "test = test / 255.0"
   ]
  },
  {
   "cell_type": "code",
   "execution_count": 10,
   "id": "ee0de434",
   "metadata": {
    "execution": {
     "iopub.execute_input": "2021-08-13T10:54:37.557011Z",
     "iopub.status.busy": "2021-08-13T10:54:37.556112Z",
     "iopub.status.idle": "2021-08-13T10:54:37.559092Z",
     "shell.execute_reply": "2021-08-13T10:54:37.558537Z",
     "shell.execute_reply.started": "2021-08-13T10:43:25.837530Z"
    },
    "papermill": {
     "duration": 0.022735,
     "end_time": "2021-08-13T10:54:37.559223",
     "exception": false,
     "start_time": "2021-08-13T10:54:37.536488",
     "status": "completed"
    },
    "tags": []
   },
   "outputs": [],
   "source": [
    "# Reshape image in 3 dimensions (height = 28px, width = 28px , canal = 1)\n",
    "X_train = X_train.values.reshape(-1,28,28,1)\n",
    "test = test.values.reshape(-1,28,28,1)"
   ]
  },
  {
   "cell_type": "code",
   "execution_count": 11,
   "id": "882a3dca",
   "metadata": {
    "execution": {
     "iopub.execute_input": "2021-08-13T10:54:37.594382Z",
     "iopub.status.busy": "2021-08-13T10:54:37.593646Z",
     "iopub.status.idle": "2021-08-13T10:54:37.597459Z",
     "shell.execute_reply": "2021-08-13T10:54:37.596886Z",
     "shell.execute_reply.started": "2021-08-13T10:43:30.569122Z"
    },
    "papermill": {
     "duration": 0.023201,
     "end_time": "2021-08-13T10:54:37.597594",
     "exception": false,
     "start_time": "2021-08-13T10:54:37.574393",
     "status": "completed"
    },
    "tags": []
   },
   "outputs": [],
   "source": [
    "# Encode labels to one hot vectors (ex : 2 -> [0,0,1,0,0,0,0,0,0,0])\n",
    "Y_train = to_categorical(Y_train, num_classes = 10)"
   ]
  },
  {
   "cell_type": "code",
   "execution_count": 12,
   "id": "b0209118",
   "metadata": {
    "execution": {
     "iopub.execute_input": "2021-08-13T10:54:37.634425Z",
     "iopub.status.busy": "2021-08-13T10:54:37.632591Z",
     "iopub.status.idle": "2021-08-13T10:54:38.028245Z",
     "shell.execute_reply": "2021-08-13T10:54:38.027696Z",
     "shell.execute_reply.started": "2021-08-13T10:43:33.489298Z"
    },
    "papermill": {
     "duration": 0.41563,
     "end_time": "2021-08-13T10:54:38.028395",
     "exception": false,
     "start_time": "2021-08-13T10:54:37.612765",
     "status": "completed"
    },
    "tags": []
   },
   "outputs": [],
   "source": [
    "# Set the random seed\n",
    "random_seed = 2\n",
    "\n",
    "# Split the train and the validation set for the fitting\n",
    "X_train, X_val, Y_train, Y_val = train_test_split(X_train, Y_train, test_size = 0.1, random_state=random_seed)"
   ]
  },
  {
   "cell_type": "code",
   "execution_count": 13,
   "id": "57b13bd4",
   "metadata": {
    "execution": {
     "iopub.execute_input": "2021-08-13T10:54:38.068648Z",
     "iopub.status.busy": "2021-08-13T10:54:38.067902Z",
     "iopub.status.idle": "2021-08-13T10:54:38.391853Z",
     "shell.execute_reply": "2021-08-13T10:54:38.391267Z",
     "shell.execute_reply.started": "2021-08-13T10:43:36.557607Z"
    },
    "papermill": {
     "duration": 0.347392,
     "end_time": "2021-08-13T10:54:38.392002",
     "exception": false,
     "start_time": "2021-08-13T10:54:38.044610",
     "status": "completed"
    },
    "tags": []
   },
   "outputs": [],
   "source": [
    "# Define the model\n",
    "# We will use CNN \n",
    "\n",
    "model = Sequential()\n",
    "\n",
    "model.add(Conv2D(filters = 32, kernel_size = (5,5),padding = 'Same', \n",
    "                 activation ='relu', input_shape = (28,28,1)))\n",
    "model.add(Conv2D(filters = 32, kernel_size = (5,5),padding = 'Same', \n",
    "                 activation ='relu'))\n",
    "model.add(MaxPool2D(pool_size=(2,2)))\n",
    "model.add(Dropout(0.25))\n",
    "\n",
    "\n",
    "model.add(Conv2D(filters = 64, kernel_size = (3,3),padding = 'Same', \n",
    "                 activation ='relu'))\n",
    "model.add(Conv2D(filters = 64, kernel_size = (3,3),padding = 'Same', \n",
    "                 activation ='relu'))\n",
    "model.add(MaxPool2D(pool_size=(2,2), strides=(2,2)))\n",
    "model.add(Dropout(0.25))\n",
    "\n",
    "\n",
    "model.add(Flatten())\n",
    "model.add(Dense(256, activation = \"relu\"))\n",
    "model.add(Dropout(0.5))\n",
    "model.add(Dense(10, activation = \"softmax\"))"
   ]
  },
  {
   "cell_type": "code",
   "execution_count": 14,
   "id": "4b762d45",
   "metadata": {
    "execution": {
     "iopub.execute_input": "2021-08-13T10:54:38.428016Z",
     "iopub.status.busy": "2021-08-13T10:54:38.427394Z",
     "iopub.status.idle": "2021-08-13T10:54:38.430371Z",
     "shell.execute_reply": "2021-08-13T10:54:38.429893Z",
     "shell.execute_reply.started": "2021-08-13T10:45:12.869221Z"
    },
    "papermill": {
     "duration": 0.022891,
     "end_time": "2021-08-13T10:54:38.430523",
     "exception": false,
     "start_time": "2021-08-13T10:54:38.407632",
     "status": "completed"
    },
    "tags": []
   },
   "outputs": [],
   "source": [
    "# Define the optimizer\n",
    "optimizer = RMSprop(lr=0.001, rho=0.9, epsilon=1e-08, decay=0.0)"
   ]
  },
  {
   "cell_type": "code",
   "execution_count": 15,
   "id": "c008711c",
   "metadata": {
    "execution": {
     "iopub.execute_input": "2021-08-13T10:54:38.471270Z",
     "iopub.status.busy": "2021-08-13T10:54:38.466024Z",
     "iopub.status.idle": "2021-08-13T10:54:38.476760Z",
     "shell.execute_reply": "2021-08-13T10:54:38.477176Z",
     "shell.execute_reply.started": "2021-08-13T10:45:23.590874Z"
    },
    "papermill": {
     "duration": 0.031365,
     "end_time": "2021-08-13T10:54:38.477371",
     "exception": false,
     "start_time": "2021-08-13T10:54:38.446006",
     "status": "completed"
    },
    "tags": []
   },
   "outputs": [],
   "source": [
    "# Compile the model\n",
    "model.compile(optimizer = optimizer , loss = \"categorical_crossentropy\", metrics=[\"accuracy\"])"
   ]
  },
  {
   "cell_type": "code",
   "execution_count": 16,
   "id": "7f86514b",
   "metadata": {
    "execution": {
     "iopub.execute_input": "2021-08-13T10:54:38.512912Z",
     "iopub.status.busy": "2021-08-13T10:54:38.512290Z",
     "iopub.status.idle": "2021-08-13T10:54:38.515608Z",
     "shell.execute_reply": "2021-08-13T10:54:38.515143Z",
     "shell.execute_reply.started": "2021-08-13T10:45:34.420842Z"
    },
    "papermill": {
     "duration": 0.023018,
     "end_time": "2021-08-13T10:54:38.515796",
     "exception": false,
     "start_time": "2021-08-13T10:54:38.492778",
     "status": "completed"
    },
    "tags": []
   },
   "outputs": [],
   "source": [
    "# Set a learning rate annealer\n",
    "learning_rate_reduction = ReduceLROnPlateau(monitor='val_acc', \n",
    "                                            patience=3, \n",
    "                                            verbose=1, \n",
    "                                            factor=0.5, \n",
    "                                            min_lr=0.00001)"
   ]
  },
  {
   "cell_type": "code",
   "execution_count": 17,
   "id": "b59cdf4d",
   "metadata": {
    "execution": {
     "iopub.execute_input": "2021-08-13T10:54:38.552294Z",
     "iopub.status.busy": "2021-08-13T10:54:38.551725Z",
     "iopub.status.idle": "2021-08-13T10:54:38.554257Z",
     "shell.execute_reply": "2021-08-13T10:54:38.554687Z",
     "shell.execute_reply.started": "2021-08-13T10:45:44.620499Z"
    },
    "papermill": {
     "duration": 0.022908,
     "end_time": "2021-08-13T10:54:38.554854",
     "exception": false,
     "start_time": "2021-08-13T10:54:38.531946",
     "status": "completed"
    },
    "tags": []
   },
   "outputs": [],
   "source": [
    "epochs = 3 \n",
    "batch_size = 86"
   ]
  },
  {
   "cell_type": "code",
   "execution_count": 18,
   "id": "09d126d4",
   "metadata": {
    "execution": {
     "iopub.execute_input": "2021-08-13T10:54:38.589839Z",
     "iopub.status.busy": "2021-08-13T10:54:38.589198Z",
     "iopub.status.idle": "2021-08-13T10:54:38.685991Z",
     "shell.execute_reply": "2021-08-13T10:54:38.686445Z",
     "shell.execute_reply.started": "2021-08-13T10:45:54.837183Z"
    },
    "papermill": {
     "duration": 0.115436,
     "end_time": "2021-08-13T10:54:38.686636",
     "exception": false,
     "start_time": "2021-08-13T10:54:38.571200",
     "status": "completed"
    },
    "tags": []
   },
   "outputs": [],
   "source": [
    "# With data augmentation to prevent overfitting (accuracy 0.99286)\n",
    "\n",
    "datagen = ImageDataGenerator(\n",
    "        featurewise_center=False,  # set input mean to 0 over the dataset\n",
    "        samplewise_center=False,  # set each sample mean to 0\n",
    "        featurewise_std_normalization=False,  # divide inputs by std of the dataset\n",
    "        samplewise_std_normalization=False,  # divide each input by its std\n",
    "        zca_whitening=False,  # apply ZCA whitening\n",
    "        rotation_range=10,  # randomly rotate images in the range (degrees, 0 to 180)\n",
    "        zoom_range = 0.1, # Randomly zoom image \n",
    "        width_shift_range=0.1,  # randomly shift images horizontally (fraction of total width)\n",
    "        height_shift_range=0.1,  # randomly shift images vertically (fraction of total height)\n",
    "        horizontal_flip=False,  # randomly flip images\n",
    "        vertical_flip=False)  # randomly flip images\n",
    "\n",
    "\n",
    "datagen.fit(X_train)"
   ]
  },
  {
   "cell_type": "code",
   "execution_count": 19,
   "id": "79159404",
   "metadata": {
    "execution": {
     "iopub.execute_input": "2021-08-13T10:54:38.721662Z",
     "iopub.status.busy": "2021-08-13T10:54:38.721067Z",
     "iopub.status.idle": "2021-08-13T11:01:31.464535Z",
     "shell.execute_reply": "2021-08-13T11:01:31.465295Z",
     "shell.execute_reply.started": "2021-08-13T10:46:08.573877Z"
    },
    "papermill": {
     "duration": 412.762644,
     "end_time": "2021-08-13T11:01:31.465606",
     "exception": false,
     "start_time": "2021-08-13T10:54:38.702962",
     "status": "completed"
    },
    "tags": []
   },
   "outputs": [
    {
     "name": "stderr",
     "output_type": "stream",
     "text": [
      "/opt/conda/lib/python3.7/site-packages/tensorflow/python/keras/engine/training.py:1844: UserWarning: `Model.fit_generator` is deprecated and will be removed in a future version. Please use `Model.fit`, which supports generators.\n",
      "  warnings.warn('`Model.fit_generator` is deprecated and '\n"
     ]
    },
    {
     "name": "stdout",
     "output_type": "stream",
     "text": [
      "Epoch 1/3\n",
      "439/439 - 131s - loss: 0.4146 - accuracy: 0.8666 - val_loss: 0.0690 - val_accuracy: 0.9783\n",
      "Epoch 2/3\n",
      "439/439 - 138s - loss: 0.1275 - accuracy: 0.9627 - val_loss: 0.0487 - val_accuracy: 0.9833\n",
      "Epoch 3/3\n",
      "439/439 - 143s - loss: 0.0946 - accuracy: 0.9714 - val_loss: 0.0379 - val_accuracy: 0.9879\n"
     ]
    }
   ],
   "source": [
    "# Fit the model\n",
    "history = model.fit_generator(datagen.flow(X_train,Y_train, batch_size=batch_size),\n",
    "                              epochs = epochs, validation_data = (X_val,Y_val),\n",
    "                              verbose = 2, steps_per_epoch=X_train.shape[0] // batch_size\n",
    "                              , callbacks=[learning_rate_reduction])"
   ]
  },
  {
   "cell_type": "code",
   "execution_count": 20,
   "id": "5d1397c0",
   "metadata": {
    "execution": {
     "iopub.execute_input": "2021-08-13T11:01:31.509125Z",
     "iopub.status.busy": "2021-08-13T11:01:31.507746Z",
     "iopub.status.idle": "2021-08-13T11:01:53.727226Z",
     "shell.execute_reply": "2021-08-13T11:01:53.726707Z",
     "shell.execute_reply.started": "2021-08-13T10:53:22.104356Z"
    },
    "papermill": {
     "duration": 22.243522,
     "end_time": "2021-08-13T11:01:53.727407",
     "exception": false,
     "start_time": "2021-08-13T11:01:31.483885",
     "status": "completed"
    },
    "tags": []
   },
   "outputs": [],
   "source": [
    "# predict results\n",
    "results = model.predict(test)\n",
    "\n",
    "# select the index with the maximum probability\n",
    "results = np.argmax(results,axis = 1)\n",
    "\n",
    "results = pd.Series(results,name=\"Label\")"
   ]
  },
  {
   "cell_type": "code",
   "execution_count": 21,
   "id": "5541bf7a",
   "metadata": {
    "execution": {
     "iopub.execute_input": "2021-08-13T11:01:53.769272Z",
     "iopub.status.busy": "2021-08-13T11:01:53.768589Z",
     "iopub.status.idle": "2021-08-13T11:01:53.813089Z",
     "shell.execute_reply": "2021-08-13T11:01:53.812609Z",
     "shell.execute_reply.started": "2021-08-13T10:53:49.286729Z"
    },
    "papermill": {
     "duration": 0.066242,
     "end_time": "2021-08-13T11:01:53.813228",
     "exception": false,
     "start_time": "2021-08-13T11:01:53.746986",
     "status": "completed"
    },
    "tags": []
   },
   "outputs": [],
   "source": [
    "submission = pd.concat([pd.Series(range(1,28001),name = \"ImageId\"),results],axis = 1)\n",
    "\n",
    "submission.to_csv(\"cnn_mnist_datagen.csv\",index=False)"
   ]
  }
 ],
 "metadata": {
  "kernelspec": {
   "display_name": "Python 3",
   "language": "python",
   "name": "python3"
  },
  "language_info": {
   "codemirror_mode": {
    "name": "ipython",
    "version": 3
   },
   "file_extension": ".py",
   "mimetype": "text/x-python",
   "name": "python",
   "nbconvert_exporter": "python",
   "pygments_lexer": "ipython3",
   "version": "3.7.10"
  },
  "papermill": {
   "default_parameters": {},
   "duration": 457.846062,
   "end_time": "2021-08-13T11:01:56.388403",
   "environment_variables": {},
   "exception": null,
   "input_path": "__notebook__.ipynb",
   "output_path": "__notebook__.ipynb",
   "parameters": {},
   "start_time": "2021-08-13T10:54:18.542341",
   "version": "2.3.3"
  }
 },
 "nbformat": 4,
 "nbformat_minor": 5
}
